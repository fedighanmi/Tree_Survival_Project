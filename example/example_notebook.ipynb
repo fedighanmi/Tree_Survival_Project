{
 "cells": [
  {
   "cell_type": "markdown",
   "id": "7d9019aa",
   "metadata": {},
   "source": [
    "#  <span style=\"color:green\"> <center> Example Notebook to the 'tree_lab' Package </center> </span>\n",
    "\n",
    "## <span style=\"color:green\"> Introduction </span>\n",
    "\n",
    "Welcome to this Jupyter Notebook! This notebook is designed to provide easy and intuitive dataset analysis to the users with less of a need of extensive technical expertise. It will provide example codes to showcase how our package may be used in relation to the specific dataset that we will mention below.\n",
    "\n",
    "\n",
    "## <span style=\"color:green\"> Objectives </span>\n",
    "\n",
    "This notebook will guide you through the usage of three core modules within our package:\n",
    "\n",
    "\n",
    "- Data Cleaning\n",
    "- Data Preprocessing\n",
    "- Data Visualization\n",
    "\n",
    "## <span style=\"color:green\"> Background </span>\n",
    "\n",
    "Only basic knowledge in python and data analysis is required in order to understand the concepts mentionned. That is it!\n",
    "\n",
    "##  <span style=\"color:green\"> About The Data </span>\n",
    "\n",
    "<span style=\"color:red\"> **Attention** </span>: The following information is provided by the authors of the experiment and not by us! If you use this dataset in your research, please credit the original authors.\n",
    "https://doi.org/10.5061/dryad.xd2547dpw\n",
    "\n",
    "\n",
    "\n",
    "We conducted a factorial blocked design field experiment, consisting of four tree species, seven soil sources (sterilized conspecific, live conspecific, and five heterospecific), and a gradient of forest understory light levels (low, medium, and high). We monitored seedling survival twice per week over one growing season, and we randomly selected subsets of seedlings to measure mycorrhizal colonization and phenolics, lignin, and NSC measurements at three weeks. We used Cox proportional hazards survival models to evaluate survival and linear mixed effects models to test how light availability and soil source influence traits.\n",
    "\n",
    "Detailed information about each column follows:\n",
    "\n",
    "- **No**: Seedling unique ID number.\n",
    "- **Plot**: Number of the field plot the seedling was planted in (1-18).\n",
    "- **Subplot**: Subplot within the main plot the seedling was planted in. Broken into 5 subplots (1 per corner, plus 1 in the middle) (A-E).\n",
    "- **Species**: Includes Acer saccharum, Prunus serotina, Quercus alba, and Quercus rubra.\n",
    "- **Light ISF**: Light level quantified with HemiView software. Represents the amount of light reaching each subplot at a height of 1m.\n",
    "- **Light Cat**: Categorical light level created by splitting the range of Light_ISF values into three bins (low, med, high).\n",
    "- **Core**: Year the soil core was removed from the field.\n",
    "- **Soil**: Species from which the soil core was taken. Includes all species, plus Acer rubrum, Populus grandidentata, and a sterilized conspecific for each species.\n",
    "- **Adult**: Individual tree that soil was taken from. Up to 6 adults per species. Used as a random effect in analyses.\n",
    "- **Sterile**: Whether the soil was sterilized or not.\n",
    "- **Conspecific**: Whether the soil was conspecific, heterospecific, or sterilized conspecific.\n",
    "- **Myco**: Mycorrhizal type of the seedling species (AMF or EMF).\n",
    "- **SoilMyco**: Mycorrhizal type of the species culturing the soil (AMF or EMF).\n",
    "- **PlantDate**: The date that seedlings were planted in the field pots.\n",
    "- **AMF**: Percent arbuscular mycorrhizal fungi colonization on the fine roots of harvested seedlings.\n",
    "- **EMF**: Percent ectomycorrhizal fungi colonization on the root tips of harvested seedlings.\n",
    "- **Phenolics**: Calculated as nmol Gallic acid equivalents per mg dry extract (see manuscript for detailed methods).\n",
    "- **NSC**: Calculated as percent dry mass nonstructural carbohydrates (see manuscript for detailed methods).\n",
    "- **Lignin**: Calculated as percent dry mass lignin (see manuscript for detailed methods).\n",
    "- **Census**: The census number at which time the seedling died or was harvested.\n",
    "- **Time**: The number of days at which time the seedling died or was harvested.\n",
    "- **Event**: Used for survival analysis to indicate status of each individual seedling at a given time (above) <br>\n",
    "0 = harvested or experiment ended <br>\n",
    "1 = dead <br>\n",
    "- **Harvest**: Indicates whether the seedling was harvested for trait measurement.\n",
    "- **Alive**: Indicates if the seedling was alive at the end of the second growing season. \"X\" in this field indicates alive status.\n",
    "- **Missing data is coded as NA.**\n",
    "\n",
    "**Acknowledgements:**\n",
    "\n",
    "All data was collected from single experiment and is presented in the associated manuscript: Wood, Katherine; Kobe, Richard; Ibáñez, Inés; McCarthy-Neumann, Sarah (2023). Tree seedling functional traits mediate plant-soil feedback survival responses across a gradient of light availability.\n",
    "\n",
    "\n",
    "## <span style=\"color:green\"> Let's Get Started! </span>"
   ]
  },
  {
   "cell_type": "code",
   "execution_count": 1,
   "id": "16815362",
   "metadata": {},
   "outputs": [],
   "source": [
    "# We will begin by downloading our tree_lab package, along with the necessary packages to use for this example.\n",
    "\n",
    "from tree_lab import preprocessing as prp,Visualization as vs, Cleaning as cln\n",
    "import pandas as pd"
   ]
  },
  {
   "cell_type": "code",
   "execution_count": 2,
   "id": "8d3986a4",
   "metadata": {},
   "outputs": [],
   "source": [
    "# Dataframe reading by pandas\n",
    "df = pd.read_csv(\"Tree_Data.csv\")"
   ]
  },
  {
   "cell_type": "markdown",
   "id": "fd415893-6d00-4aa6-9e24-25d620bba670",
   "metadata": {},
   "source": [
    "## <span style=\"color:green\"> Data Cleaning: A Fundamental Step </span>\n",
    "In this Jupyter Notebook, we will commence our data analysis journey by focusing on the foundational process of data cleaning. "
   ]
  },
  {
   "cell_type": "code",
   "execution_count": 3,
   "id": "bc79a0ab",
   "metadata": {},
   "outputs": [],
   "source": [
    "# We will create an instance of our data and name it tree_cleaner.\n",
    "\n",
    "tree_cleaner = cln.TreeDataCleaner(df)"
   ]
  },
  {
   "cell_type": "markdown",
   "id": "bafd6cbb-e9d0-4471-a377-d43f37b5a3d0",
   "metadata": {},
   "source": [
    "The **detect_na** function will detect the columns with null values and print out the null values correspondingly."
   ]
  },
  {
   "cell_type": "code",
   "execution_count": 4,
   "id": "e3ac42f4",
   "metadata": {},
   "outputs": [
    {
     "name": "stdout",
     "output_type": "stream",
     "text": [
      "Columns with null values:\n",
      "['EMF', 'Event', 'Harvest', 'Alive']\n"
     ]
    }
   ],
   "source": [
    "# The columns with null values is given as an output.\n",
    "\n",
    "tree_cleaner.detect_na()"
   ]
  },
  {
   "cell_type": "markdown",
   "id": "06fa9061-a2cb-459b-8f7e-b44d6ec07e8a",
   "metadata": {},
   "source": [
    "The **impute_na()** function is used to impute missing values in the DataFrame."
   ]
  },
  {
   "cell_type": "code",
   "execution_count": 5,
   "id": "ac4f48f3",
   "metadata": {},
   "outputs": [],
   "source": [
    "# PS: This function have no output. By default it is either a mean imputation or constant imputation. You can\n",
    "# refer to the documentation for more information.\n",
    "\n",
    "tree_cleaner.impute_na()"
   ]
  },
  {
   "cell_type": "markdown",
   "id": "fbac12d6-c0f7-4eba-b3ad-7fe7cc187d26",
   "metadata": {},
   "source": [
    "This **modify_status()** function will modify the \"NA\" and \"X\" values in Alive column to 0 and 1 respectively where 0 indicates the plant is Dead and the 1 indicates the plant is alive. Also the function renames the Event column as Dead where 1 idicates the plant is dead and 0 indicates the plant is alive."
   ]
  },
  {
   "cell_type": "code",
   "execution_count": 6,
   "id": "8ce78801-74a2-40c1-b0e9-f82c13b4ec13",
   "metadata": {},
   "outputs": [
    {
     "data": {
      "text/html": [
       "<div>\n",
       "<style scoped>\n",
       "    .dataframe tbody tr th:only-of-type {\n",
       "        vertical-align: middle;\n",
       "    }\n",
       "\n",
       "    .dataframe tbody tr th {\n",
       "        vertical-align: top;\n",
       "    }\n",
       "\n",
       "    .dataframe thead th {\n",
       "        text-align: right;\n",
       "    }\n",
       "</style>\n",
       "<table border=\"1\" class=\"dataframe\">\n",
       "  <thead>\n",
       "    <tr style=\"text-align: right;\">\n",
       "      <th></th>\n",
       "      <th>No</th>\n",
       "      <th>Plot</th>\n",
       "      <th>Subplot</th>\n",
       "      <th>Species</th>\n",
       "      <th>Light_ISF</th>\n",
       "      <th>Light_Cat</th>\n",
       "      <th>Core</th>\n",
       "      <th>Soil</th>\n",
       "      <th>Adult</th>\n",
       "      <th>Sterile</th>\n",
       "      <th>...</th>\n",
       "      <th>AMF</th>\n",
       "      <th>EMF</th>\n",
       "      <th>Phenolics</th>\n",
       "      <th>Lignin</th>\n",
       "      <th>NSC</th>\n",
       "      <th>Census</th>\n",
       "      <th>Time</th>\n",
       "      <th>Dead</th>\n",
       "      <th>Harvest</th>\n",
       "      <th>Alive</th>\n",
       "    </tr>\n",
       "  </thead>\n",
       "  <tbody>\n",
       "    <tr>\n",
       "      <th>0</th>\n",
       "      <td>126</td>\n",
       "      <td>1</td>\n",
       "      <td>C</td>\n",
       "      <td>Acer saccharum</td>\n",
       "      <td>0.106</td>\n",
       "      <td>Med</td>\n",
       "      <td>2017</td>\n",
       "      <td>Prunus serotina</td>\n",
       "      <td>I</td>\n",
       "      <td>Non-Sterile</td>\n",
       "      <td>...</td>\n",
       "      <td>22.00</td>\n",
       "      <td>26.47675</td>\n",
       "      <td>-0.56</td>\n",
       "      <td>13.86</td>\n",
       "      <td>12.15</td>\n",
       "      <td>4</td>\n",
       "      <td>14.0</td>\n",
       "      <td>1.0</td>\n",
       "      <td>0</td>\n",
       "      <td>0</td>\n",
       "    </tr>\n",
       "    <tr>\n",
       "      <th>1</th>\n",
       "      <td>11</td>\n",
       "      <td>1</td>\n",
       "      <td>C</td>\n",
       "      <td>Quercus alba</td>\n",
       "      <td>0.106</td>\n",
       "      <td>Med</td>\n",
       "      <td>2017</td>\n",
       "      <td>Quercus rubra</td>\n",
       "      <td>970</td>\n",
       "      <td>Non-Sterile</td>\n",
       "      <td>...</td>\n",
       "      <td>15.82</td>\n",
       "      <td>31.07000</td>\n",
       "      <td>5.19</td>\n",
       "      <td>20.52</td>\n",
       "      <td>19.29</td>\n",
       "      <td>33</td>\n",
       "      <td>115.5</td>\n",
       "      <td>0.0</td>\n",
       "      <td>0</td>\n",
       "      <td>1</td>\n",
       "    </tr>\n",
       "    <tr>\n",
       "      <th>2</th>\n",
       "      <td>12</td>\n",
       "      <td>1</td>\n",
       "      <td>C</td>\n",
       "      <td>Quercus rubra</td>\n",
       "      <td>0.106</td>\n",
       "      <td>Med</td>\n",
       "      <td>2017</td>\n",
       "      <td>Prunus serotina</td>\n",
       "      <td>J</td>\n",
       "      <td>Non-Sterile</td>\n",
       "      <td>...</td>\n",
       "      <td>24.45</td>\n",
       "      <td>28.19000</td>\n",
       "      <td>3.36</td>\n",
       "      <td>24.74</td>\n",
       "      <td>15.01</td>\n",
       "      <td>18</td>\n",
       "      <td>63.0</td>\n",
       "      <td>1.0</td>\n",
       "      <td>0</td>\n",
       "      <td>0</td>\n",
       "    </tr>\n",
       "    <tr>\n",
       "      <th>3</th>\n",
       "      <td>2823</td>\n",
       "      <td>7</td>\n",
       "      <td>D</td>\n",
       "      <td>Acer saccharum</td>\n",
       "      <td>0.080</td>\n",
       "      <td>Med</td>\n",
       "      <td>2016</td>\n",
       "      <td>Prunus serotina</td>\n",
       "      <td>J</td>\n",
       "      <td>Non-Sterile</td>\n",
       "      <td>...</td>\n",
       "      <td>22.23</td>\n",
       "      <td>26.47675</td>\n",
       "      <td>-0.71</td>\n",
       "      <td>14.29</td>\n",
       "      <td>12.36</td>\n",
       "      <td>4</td>\n",
       "      <td>14.0</td>\n",
       "      <td>1.0</td>\n",
       "      <td>0</td>\n",
       "      <td>0</td>\n",
       "    </tr>\n",
       "    <tr>\n",
       "      <th>4</th>\n",
       "      <td>5679</td>\n",
       "      <td>14</td>\n",
       "      <td>A</td>\n",
       "      <td>Acer saccharum</td>\n",
       "      <td>0.060</td>\n",
       "      <td>Low</td>\n",
       "      <td>2017</td>\n",
       "      <td>Prunus serotina</td>\n",
       "      <td>689</td>\n",
       "      <td>Non-Sterile</td>\n",
       "      <td>...</td>\n",
       "      <td>21.15</td>\n",
       "      <td>26.47675</td>\n",
       "      <td>-0.58</td>\n",
       "      <td>10.85</td>\n",
       "      <td>11.20</td>\n",
       "      <td>4</td>\n",
       "      <td>14.0</td>\n",
       "      <td>1.0</td>\n",
       "      <td>0</td>\n",
       "      <td>0</td>\n",
       "    </tr>\n",
       "  </tbody>\n",
       "</table>\n",
       "<p>5 rows × 24 columns</p>\n",
       "</div>"
      ],
      "text/plain": [
       "     No  Plot Subplot         Species  Light_ISF Light_Cat  Core  \\\n",
       "0   126     1       C  Acer saccharum      0.106       Med  2017   \n",
       "1    11     1       C    Quercus alba      0.106       Med  2017   \n",
       "2    12     1       C   Quercus rubra      0.106       Med  2017   \n",
       "3  2823     7       D  Acer saccharum      0.080       Med  2016   \n",
       "4  5679    14       A  Acer saccharum      0.060       Low  2017   \n",
       "\n",
       "              Soil Adult      Sterile  ...    AMF       EMF Phenolics Lignin  \\\n",
       "0  Prunus serotina     I  Non-Sterile  ...  22.00  26.47675     -0.56  13.86   \n",
       "1    Quercus rubra   970  Non-Sterile  ...  15.82  31.07000      5.19  20.52   \n",
       "2  Prunus serotina     J  Non-Sterile  ...  24.45  28.19000      3.36  24.74   \n",
       "3  Prunus serotina     J  Non-Sterile  ...  22.23  26.47675     -0.71  14.29   \n",
       "4  Prunus serotina   689  Non-Sterile  ...  21.15  26.47675     -0.58  10.85   \n",
       "\n",
       "     NSC  Census   Time  Dead  Harvest  Alive  \n",
       "0  12.15       4   14.0   1.0        0      0  \n",
       "1  19.29      33  115.5   0.0        0      1  \n",
       "2  15.01      18   63.0   1.0        0      0  \n",
       "3  12.36       4   14.0   1.0        0      0  \n",
       "4  11.20       4   14.0   1.0        0      0  \n",
       "\n",
       "[5 rows x 24 columns]"
      ]
     },
     "execution_count": 6,
     "metadata": {},
     "output_type": "execute_result"
    }
   ],
   "source": [
    "# The values in the Alive coulmn is now set to 0's and 1's and also the column Event is now set to Dead\n",
    "\n",
    "tree_cleaner.modify_status().head()"
   ]
  },
  {
   "cell_type": "markdown",
   "id": "797270a5-4192-481b-a0a1-1dad2569f147",
   "metadata": {},
   "source": [
    "This **input_values()** function will remove the column that the user give in."
   ]
  },
  {
   "cell_type": "code",
   "execution_count": 7,
   "id": "5020af1a",
   "metadata": {},
   "outputs": [],
   "source": [
    "# The given column \"Plot\" is now removed permanently.\n",
    "\n",
    "tree_cleaner.del_cols(['Plot'])"
   ]
  },
  {
   "cell_type": "code",
   "execution_count": 8,
   "id": "bc55b302",
   "metadata": {},
   "outputs": [
    {
     "name": "stdout",
     "output_type": "stream",
     "text": [
      "Index(['No', 'Subplot', 'Species', 'Light_ISF', 'Light_Cat', 'Core', 'Soil',\n",
      "       'Adult', 'Sterile', 'Conspecific', 'Myco', 'SoilMyco', 'PlantDate',\n",
      "       'AMF', 'EMF', 'Phenolics', 'Lignin', 'NSC', 'Census', 'Time', 'Dead',\n",
      "       'Harvest', 'Alive'],\n",
      "      dtype='object')\n"
     ]
    }
   ],
   "source": [
    "# We can see here that it no longer exists.\n",
    "\n",
    "print(tree_cleaner.display().columns)"
   ]
  },
  {
   "cell_type": "markdown",
   "id": "59970fca",
   "metadata": {},
   "source": [
    "## <span style=\"color:green\"> Preprocessing for Further Development </span>\n",
    "\n",
    "In this section, we'll merge the changes made previously and insert them into a preprocessing instance for further development."
   ]
  },
  {
   "cell_type": "code",
   "execution_count": 9,
   "id": "e3c04fc9",
   "metadata": {},
   "outputs": [],
   "source": [
    "# We will create an instance of our data from the previous cleaning and name it preprocess.\n",
    "\n",
    "preprocess = prp.DataPreprocessor(tree_cleaner.display())"
   ]
  },
  {
   "cell_type": "code",
   "execution_count": 10,
   "id": "db112a48",
   "metadata": {},
   "outputs": [
    {
     "data": {
      "text/html": [
       "<div>\n",
       "<style scoped>\n",
       "    .dataframe tbody tr th:only-of-type {\n",
       "        vertical-align: middle;\n",
       "    }\n",
       "\n",
       "    .dataframe tbody tr th {\n",
       "        vertical-align: top;\n",
       "    }\n",
       "\n",
       "    .dataframe thead th {\n",
       "        text-align: right;\n",
       "    }\n",
       "</style>\n",
       "<table border=\"1\" class=\"dataframe\">\n",
       "  <thead>\n",
       "    <tr style=\"text-align: right;\">\n",
       "      <th></th>\n",
       "      <th>Light_ISF</th>\n",
       "    </tr>\n",
       "  </thead>\n",
       "  <tbody>\n",
       "    <tr>\n",
       "      <th>0</th>\n",
       "      <td>0.573643</td>\n",
       "    </tr>\n",
       "    <tr>\n",
       "      <th>1</th>\n",
       "      <td>0.573643</td>\n",
       "    </tr>\n",
       "    <tr>\n",
       "      <th>2</th>\n",
       "      <td>0.573643</td>\n",
       "    </tr>\n",
       "    <tr>\n",
       "      <th>3</th>\n",
       "      <td>0.372093</td>\n",
       "    </tr>\n",
       "    <tr>\n",
       "      <th>4</th>\n",
       "      <td>0.217054</td>\n",
       "    </tr>\n",
       "    <tr>\n",
       "      <th>...</th>\n",
       "      <td>...</td>\n",
       "    </tr>\n",
       "    <tr>\n",
       "      <th>2778</th>\n",
       "      <td>0.612403</td>\n",
       "    </tr>\n",
       "    <tr>\n",
       "      <th>2779</th>\n",
       "      <td>0.666667</td>\n",
       "    </tr>\n",
       "    <tr>\n",
       "      <th>2780</th>\n",
       "      <td>0.666667</td>\n",
       "    </tr>\n",
       "    <tr>\n",
       "      <th>2781</th>\n",
       "      <td>1.000000</td>\n",
       "    </tr>\n",
       "    <tr>\n",
       "      <th>2782</th>\n",
       "      <td>0.844961</td>\n",
       "    </tr>\n",
       "  </tbody>\n",
       "</table>\n",
       "<p>2783 rows × 1 columns</p>\n",
       "</div>"
      ],
      "text/plain": [
       "      Light_ISF\n",
       "0      0.573643\n",
       "1      0.573643\n",
       "2      0.573643\n",
       "3      0.372093\n",
       "4      0.217054\n",
       "...         ...\n",
       "2778   0.612403\n",
       "2779   0.666667\n",
       "2780   0.666667\n",
       "2781   1.000000\n",
       "2782   0.844961\n",
       "\n",
       "[2783 rows x 1 columns]"
      ]
     },
     "execution_count": 10,
     "metadata": {},
     "output_type": "execute_result"
    }
   ],
   "source": [
    "# We can type in a numerical column with a scaler type and the returned data will be normalized\n",
    "# on the defined coloumns\n",
    "\n",
    "preprocess.normalize_data([\"Light_ISF\"], scaler_type=\"minmax\").loc[:,[\"Light_ISF\"]]"
   ]
  },
  {
   "cell_type": "code",
   "execution_count": 11,
   "id": "4b59dba5",
   "metadata": {},
   "outputs": [
    {
     "name": "stdout",
     "output_type": "stream",
     "text": [
      "'Soil' is not a numeric column! It is either categorical or contains n/a values! Only numeric columns can be normalized!\n"
     ]
    }
   ],
   "source": [
    "# We can also in put multiple columns to normalize, but if you input by mistake a non-numerical feature,\n",
    "# or a feature with issues, a message will be outputted to warn that only numerical are allowed.\n",
    "\n",
    "preprocess.normalize_data([\"Lignin\", \"Soil\"])"
   ]
  },
  {
   "cell_type": "code",
   "execution_count": 12,
   "id": "a42dfe93",
   "metadata": {},
   "outputs": [
    {
     "data": {
      "text/html": [
       "<div>\n",
       "<style scoped>\n",
       "    .dataframe tbody tr th:only-of-type {\n",
       "        vertical-align: middle;\n",
       "    }\n",
       "\n",
       "    .dataframe tbody tr th {\n",
       "        vertical-align: top;\n",
       "    }\n",
       "\n",
       "    .dataframe thead th {\n",
       "        text-align: right;\n",
       "    }\n",
       "</style>\n",
       "<table border=\"1\" class=\"dataframe\">\n",
       "  <thead>\n",
       "    <tr style=\"text-align: right;\">\n",
       "      <th></th>\n",
       "      <th>Lignin</th>\n",
       "      <th>AMF</th>\n",
       "    </tr>\n",
       "  </thead>\n",
       "  <tbody>\n",
       "    <tr>\n",
       "      <th>0</th>\n",
       "      <td>-0.280272</td>\n",
       "      <td>0.117566</td>\n",
       "    </tr>\n",
       "    <tr>\n",
       "      <th>1</th>\n",
       "      <td>0.702262</td>\n",
       "      <td>-0.384572</td>\n",
       "    </tr>\n",
       "    <tr>\n",
       "      <th>2</th>\n",
       "      <td>1.324829</td>\n",
       "      <td>0.316634</td>\n",
       "    </tr>\n",
       "    <tr>\n",
       "      <th>3</th>\n",
       "      <td>-0.216835</td>\n",
       "      <td>0.136254</td>\n",
       "    </tr>\n",
       "    <tr>\n",
       "      <th>4</th>\n",
       "      <td>-0.724330</td>\n",
       "      <td>0.048502</td>\n",
       "    </tr>\n",
       "  </tbody>\n",
       "</table>\n",
       "</div>"
      ],
      "text/plain": [
       "     Lignin       AMF\n",
       "0 -0.280272  0.117566\n",
       "1  0.702262 -0.384572\n",
       "2  1.324829  0.316634\n",
       "3 -0.216835  0.136254\n",
       "4 -0.724330  0.048502"
      ]
     },
     "execution_count": 12,
     "metadata": {},
     "output_type": "execute_result"
    }
   ],
   "source": [
    "# Once this is fixed, it will return the data normalized too. If you have noticed, in this case, the default \n",
    "# normalization will be a normal one according to the guassian distribution.\n",
    "\n",
    "preprocess.normalize_data([\"Lignin\", \"AMF\"]).loc[:,[\"Lignin\", \"AMF\"]].head()"
   ]
  },
  {
   "cell_type": "code",
   "execution_count": 13,
   "id": "cc247208",
   "metadata": {},
   "outputs": [
    {
     "data": {
      "text/html": [
       "<div>\n",
       "<style scoped>\n",
       "    .dataframe tbody tr th:only-of-type {\n",
       "        vertical-align: middle;\n",
       "    }\n",
       "\n",
       "    .dataframe tbody tr th {\n",
       "        vertical-align: top;\n",
       "    }\n",
       "\n",
       "    .dataframe thead th {\n",
       "        text-align: right;\n",
       "    }\n",
       "</style>\n",
       "<table border=\"1\" class=\"dataframe\">\n",
       "  <thead>\n",
       "    <tr style=\"text-align: right;\">\n",
       "      <th></th>\n",
       "      <th>No</th>\n",
       "      <th>Subplot</th>\n",
       "      <th>Species</th>\n",
       "      <th>Light_ISF</th>\n",
       "      <th>Light_Cat</th>\n",
       "      <th>Core</th>\n",
       "      <th>Soil</th>\n",
       "      <th>Adult</th>\n",
       "      <th>Sterile</th>\n",
       "      <th>Conspecific</th>\n",
       "      <th>...</th>\n",
       "      <th>AMF</th>\n",
       "      <th>EMF</th>\n",
       "      <th>Phenolics</th>\n",
       "      <th>Lignin</th>\n",
       "      <th>NSC</th>\n",
       "      <th>Census</th>\n",
       "      <th>Time</th>\n",
       "      <th>Dead</th>\n",
       "      <th>Harvest</th>\n",
       "      <th>Alive</th>\n",
       "    </tr>\n",
       "  </thead>\n",
       "  <tbody>\n",
       "    <tr>\n",
       "      <th>0</th>\n",
       "      <td>126</td>\n",
       "      <td>C</td>\n",
       "      <td>Acer saccharum</td>\n",
       "      <td>0.573643</td>\n",
       "      <td>Med</td>\n",
       "      <td>2017</td>\n",
       "      <td>Prunus serotina</td>\n",
       "      <td>I</td>\n",
       "      <td>Non-Sterile</td>\n",
       "      <td>Heterospecific</td>\n",
       "      <td>...</td>\n",
       "      <td>0.117566</td>\n",
       "      <td>26.47675</td>\n",
       "      <td>-0.56</td>\n",
       "      <td>-0.280272</td>\n",
       "      <td>12.15</td>\n",
       "      <td>4</td>\n",
       "      <td>14.0</td>\n",
       "      <td>1.0</td>\n",
       "      <td>0</td>\n",
       "      <td>0</td>\n",
       "    </tr>\n",
       "    <tr>\n",
       "      <th>1</th>\n",
       "      <td>11</td>\n",
       "      <td>C</td>\n",
       "      <td>Quercus alba</td>\n",
       "      <td>0.573643</td>\n",
       "      <td>Med</td>\n",
       "      <td>2017</td>\n",
       "      <td>Quercus rubra</td>\n",
       "      <td>970</td>\n",
       "      <td>Non-Sterile</td>\n",
       "      <td>Heterospecific</td>\n",
       "      <td>...</td>\n",
       "      <td>-0.384572</td>\n",
       "      <td>31.07000</td>\n",
       "      <td>5.19</td>\n",
       "      <td>0.702262</td>\n",
       "      <td>19.29</td>\n",
       "      <td>33</td>\n",
       "      <td>115.5</td>\n",
       "      <td>0.0</td>\n",
       "      <td>0</td>\n",
       "      <td>1</td>\n",
       "    </tr>\n",
       "    <tr>\n",
       "      <th>2</th>\n",
       "      <td>12</td>\n",
       "      <td>C</td>\n",
       "      <td>Quercus rubra</td>\n",
       "      <td>0.573643</td>\n",
       "      <td>Med</td>\n",
       "      <td>2017</td>\n",
       "      <td>Prunus serotina</td>\n",
       "      <td>J</td>\n",
       "      <td>Non-Sterile</td>\n",
       "      <td>Heterospecific</td>\n",
       "      <td>...</td>\n",
       "      <td>0.316634</td>\n",
       "      <td>28.19000</td>\n",
       "      <td>3.36</td>\n",
       "      <td>1.324829</td>\n",
       "      <td>15.01</td>\n",
       "      <td>18</td>\n",
       "      <td>63.0</td>\n",
       "      <td>1.0</td>\n",
       "      <td>0</td>\n",
       "      <td>0</td>\n",
       "    </tr>\n",
       "    <tr>\n",
       "      <th>3</th>\n",
       "      <td>2823</td>\n",
       "      <td>D</td>\n",
       "      <td>Acer saccharum</td>\n",
       "      <td>0.372093</td>\n",
       "      <td>Med</td>\n",
       "      <td>2016</td>\n",
       "      <td>Prunus serotina</td>\n",
       "      <td>J</td>\n",
       "      <td>Non-Sterile</td>\n",
       "      <td>Heterospecific</td>\n",
       "      <td>...</td>\n",
       "      <td>0.136254</td>\n",
       "      <td>26.47675</td>\n",
       "      <td>-0.71</td>\n",
       "      <td>-0.216835</td>\n",
       "      <td>12.36</td>\n",
       "      <td>4</td>\n",
       "      <td>14.0</td>\n",
       "      <td>1.0</td>\n",
       "      <td>0</td>\n",
       "      <td>0</td>\n",
       "    </tr>\n",
       "    <tr>\n",
       "      <th>4</th>\n",
       "      <td>5679</td>\n",
       "      <td>A</td>\n",
       "      <td>Acer saccharum</td>\n",
       "      <td>0.217054</td>\n",
       "      <td>Low</td>\n",
       "      <td>2017</td>\n",
       "      <td>Prunus serotina</td>\n",
       "      <td>689</td>\n",
       "      <td>Non-Sterile</td>\n",
       "      <td>Heterospecific</td>\n",
       "      <td>...</td>\n",
       "      <td>0.048502</td>\n",
       "      <td>26.47675</td>\n",
       "      <td>-0.58</td>\n",
       "      <td>-0.724330</td>\n",
       "      <td>11.20</td>\n",
       "      <td>4</td>\n",
       "      <td>14.0</td>\n",
       "      <td>1.0</td>\n",
       "      <td>0</td>\n",
       "      <td>0</td>\n",
       "    </tr>\n",
       "  </tbody>\n",
       "</table>\n",
       "<p>5 rows × 23 columns</p>\n",
       "</div>"
      ],
      "text/plain": [
       "     No Subplot         Species  Light_ISF Light_Cat  Core             Soil  \\\n",
       "0   126       C  Acer saccharum   0.573643       Med  2017  Prunus serotina   \n",
       "1    11       C    Quercus alba   0.573643       Med  2017    Quercus rubra   \n",
       "2    12       C   Quercus rubra   0.573643       Med  2017  Prunus serotina   \n",
       "3  2823       D  Acer saccharum   0.372093       Med  2016  Prunus serotina   \n",
       "4  5679       A  Acer saccharum   0.217054       Low  2017  Prunus serotina   \n",
       "\n",
       "  Adult      Sterile     Conspecific  ...       AMF       EMF Phenolics  \\\n",
       "0     I  Non-Sterile  Heterospecific  ...  0.117566  26.47675     -0.56   \n",
       "1   970  Non-Sterile  Heterospecific  ... -0.384572  31.07000      5.19   \n",
       "2     J  Non-Sterile  Heterospecific  ...  0.316634  28.19000      3.36   \n",
       "3     J  Non-Sterile  Heterospecific  ...  0.136254  26.47675     -0.71   \n",
       "4   689  Non-Sterile  Heterospecific  ...  0.048502  26.47675     -0.58   \n",
       "\n",
       "     Lignin    NSC  Census   Time  Dead  Harvest  Alive  \n",
       "0 -0.280272  12.15       4   14.0   1.0        0      0  \n",
       "1  0.702262  19.29      33  115.5   0.0        0      1  \n",
       "2  1.324829  15.01      18   63.0   1.0        0      0  \n",
       "3 -0.216835  12.36       4   14.0   1.0        0      0  \n",
       "4 -0.724330  11.20       4   14.0   1.0        0      0  \n",
       "\n",
       "[5 rows x 23 columns]"
      ]
     },
     "execution_count": 13,
     "metadata": {},
     "output_type": "execute_result"
    }
   ],
   "source": [
    "# The display function will display the dataframe with all of its previous changes.\n",
    "\n",
    "preprocess.display().head()"
   ]
  },
  {
   "cell_type": "markdown",
   "id": "9183ae6c-75f7-44ae-b9a2-48bcb1d0c8c8",
   "metadata": {},
   "source": [
    "## <span style=\"color:green\">  Visualization at last! </span>\n",
    "In this last part, we'll make into good use our previous cleaning and preprocessing in order to try and visualize our data.\n"
   ]
  },
  {
   "cell_type": "code",
   "execution_count": 14,
   "id": "660ac3d4",
   "metadata": {},
   "outputs": [],
   "source": [
    "# We insert our changes into a variable df_clean to further work with it.\n",
    "\n",
    "df_clean = preprocess.display()"
   ]
  },
  {
   "cell_type": "markdown",
   "id": "2703b049",
   "metadata": {},
   "source": [
    "The **summarize()** function returns a table of frequencies of the preselected variables."
   ]
  },
  {
   "cell_type": "code",
   "execution_count": 15,
   "id": "857aeaf5-a4bd-4ddb-8d3e-08e795a10daf",
   "metadata": {},
   "outputs": [
    {
     "name": "stdout",
     "output_type": "stream",
     "text": [
      "\n",
      "Summary for Species:\n",
      "\n",
      "           Species  Frequency  Relative frequency\n",
      "0   Acer saccharum        751               26.99\n",
      "1  Prunus serotina        749               26.91\n",
      "2     Quercus alba        673               24.18\n",
      "3    Quercus rubra        610               21.92\n",
      "\n",
      "Summary for Subplot:\n",
      "\n",
      "  Subplot  Frequency  Relative frequency\n",
      "0       A        701               25.19\n",
      "1       D        666               23.93\n",
      "2       B        663               23.82\n",
      "3       C        646               23.21\n",
      "4       E        107                3.84\n"
     ]
    }
   ],
   "source": [
    "# Using the summarize function it is possible to get tables of frequencies or relative frequencies \n",
    "# of the variables. the tables of frequencies and relative frequencies are displayed for \n",
    "# the variables \"Species\" and \"Subplot\".\n",
    "\n",
    "vs.summarize(df = df_clean, \n",
    "             col  = ['Species', 'Subplot'], \n",
    "             kind = \"Frequency and Relative frequency\", \n",
    "             dec = 2)"
   ]
  },
  {
   "cell_type": "markdown",
   "id": "0c473b65",
   "metadata": {},
   "source": [
    "We can also change the amount of decimals in the **summarize()** function like shown by contrast from the above table to the below table."
   ]
  },
  {
   "cell_type": "code",
   "execution_count": 16,
   "id": "fae196cd",
   "metadata": {},
   "outputs": [
    {
     "name": "stdout",
     "output_type": "stream",
     "text": [
      "\n",
      "Summary for Dead:\n",
      "\n",
      "   Dead  Relative frequency\n",
      "0   1.0             57.0248\n",
      "1   0.0             42.9752\n"
     ]
    }
   ],
   "source": [
    "vs.summarize(df = df_clean, \n",
    "             col  = ['Dead'], \n",
    "             kind = \"Relative frequency\", \n",
    "             dec = 4)"
   ]
  },
  {
   "cell_type": "code",
   "execution_count": 17,
   "id": "758d650e",
   "metadata": {},
   "outputs": [
    {
     "name": "stdout",
     "output_type": "stream",
     "text": [
      "\n",
      "Summary for Dead:\n",
      "\n",
      "   Dead  Frequency\n",
      "0   1.0       1587\n",
      "1   0.0       1196\n"
     ]
    }
   ],
   "source": [
    "# It is possible to display the Frequencies without the relative frequencies.\n",
    "\n",
    "vs.summarize(df = df_clean,\n",
    "             col  = ['Dead'],\n",
    "             kind = \"Frequency\")"
   ]
  },
  {
   "cell_type": "markdown",
   "id": "744cb4b5",
   "metadata": {},
   "source": [
    "In order to visualize the data, specifically the status of the plant compared to other variables, \n",
    "it is possible to use the function **bar_plot()**. The possibilities for the combination of variables are:\n",
    "\n",
    "- \"Species_vs_Status\"\n",
    "- \"Species_vs_field\"\n",
    "- \"Light level vs status\"\n",
    "\n",
    "You can refer to the documentation for more details."
   ]
  },
  {
   "cell_type": "code",
   "execution_count": 18,
   "id": "311f4088",
   "metadata": {},
   "outputs": [
    {
     "data": {
      "image/png": "[encoded data removed]",
      "text/plain": [
       "<Figure size 691.5x600 with 1 Axes>"
      ]
     },
     "metadata": {},
     "output_type": "display_data"
    }
   ],
   "source": [
    "#\n",
    "\n",
    "vs.bar_plot(df = df_clean, \n",
    "            kind = \"Species_vs_Status\")"
   ]
  },
  {
   "cell_type": "code",
   "execution_count": 20,
   "id": "44fda402",
   "metadata": {},
   "outputs": [
    {
     "data": {
      "image/png": "[encoded data removed]",
      "text/plain": [
       "<Figure size 1000x600 with 1 Axes>"
      ]
     },
     "metadata": {},
     "output_type": "display_data"
    }
   ],
   "source": [
    "vs.bar_plot(df = df, kind = \"Species_vs_field\")"
   ]
  },
  {
   "cell_type": "code",
   "execution_count": 13,
   "id": "7a42e307",
   "metadata": {},
   "outputs": [
    {
     "data": {
      "image/png": "[encoded data removed]",
      "text/plain": [
       "<Figure size 691.5x600 with 1 Axes>"
      ]
     },
     "metadata": {},
     "output_type": "display_data"
    }
   ],
   "source": [
    "vs.bar_plot(df = df, type = \"Light level vs status\")"
   ]
  }
 ],
 "metadata": {
  "kernelspec": {
   "display_name": "Python 3 (ipykernel)",
   "language": "python",
   "name": "python3"
  },
  "language_info": {
   "codemirror_mode": {
    "name": "ipython",
    "version": 3
   },
   "file_extension": ".py",
   "mimetype": "text/x-python",
   "name": "python",
   "nbconvert_exporter": "python",
   "pygments_lexer": "ipython3",
   "version": "3.11.0"
  }
 },
 "nbformat": 4,
 "nbformat_minor": 5
}
